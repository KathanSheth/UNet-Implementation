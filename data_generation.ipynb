{
 "cells": [
  {
   "cell_type": "code",
   "execution_count": 20,
   "metadata": {},
   "outputs": [],
   "source": [
    "import os\n",
    "import numpy as np\n",
    "from skimage.io import imsave,imread"
   ]
  },
  {
   "cell_type": "code",
   "execution_count": 3,
   "metadata": {},
   "outputs": [],
   "source": [
    "img_height = 420\n",
    "img_width = 580\n",
    "data_path = 'images/'\n"
   ]
  },
  {
   "cell_type": "code",
   "execution_count": 28,
   "metadata": {},
   "outputs": [],
   "source": [
    "def train_data():\n",
    "    path = os.path.join(data_path,'train')\n",
    "    total_number_images = os.listdir(path)\n",
    "    #print (total_number_images)\n",
    "    half_number_images = int(len(total_number_images)/2)\n",
    "    train_images = np.ndarray((half_number_images,img_height,img_width),dtype=np.uint8)\n",
    "    train_mask_images = np.ndarray((half_number_images,img_height,img_width),dtype=np.uint8)\n",
    "    i = 0\n",
    "    for image_name in total_number_images:\n",
    "        if 'mask' in image_name:\n",
    "            continue\n",
    "        \n",
    "        #Logic\n",
    "        #Both original and mask images are in train folder so first we divide total/2\n",
    "        #Now we need to make pair of original image and realted mask image\n",
    "        #So, first we ignore image names which has 'mask' in it.\n",
    "        #And then create related image mask name(Below line)\n",
    "        image_mask_name = image_name.split('.')[0] + '_mask.tif'\n",
    "        img = imread(os.path.join(path,image_name),as_grey=True)\n",
    "        #print (image_name)\n",
    "        #print (image_mask_name)\n",
    "        #break\n",
    "        img_mask = imread(os.path.join(path,image_mask_name),as_grey=True)\n",
    "        \n",
    "        img = np.array([img])\n",
    "        img_mask = np.array([img_mask])\n",
    "        \n",
    "        train_images[i] = img\n",
    "        train_mask_images[i] = img_mask\n",
    "        \n",
    "        if i%100 == 0:\n",
    "            print ('Done {0} - {1} images'.format(i,half_number_images))\n",
    "        i +=1\n",
    "    \n",
    "    np.save('train_images.npy',train_images)\n",
    "    np.save('train_mask_images.npy',train_mask_images)\n",
    "    \n",
    "    print ('Converting Training data from tif to npy is done..')"
   ]
  },
  {
   "cell_type": "code",
   "execution_count": 29,
   "metadata": {},
   "outputs": [
    {
     "name": "stdout",
     "output_type": "stream",
     "text": [
      "Done 0 - 5635 images\n",
      "Done 100 - 5635 images\n",
      "Done 200 - 5635 images\n",
      "Done 300 - 5635 images\n",
      "Done 400 - 5635 images\n",
      "Done 500 - 5635 images\n",
      "Done 600 - 5635 images\n",
      "Done 700 - 5635 images\n"
     ]
    },
    {
     "name": "stderr",
     "output_type": "stream",
     "text": [
      "/Users/kathan/miniconda3/envs/carnd-term1/lib/python3.5/site-packages/skimage/external/tifffile/tifffile.py:2611: RuntimeWarning: py_decodelzw encountered unexpected end of stream\n",
      "  strip = decompress(strip)\n"
     ]
    },
    {
     "name": "stdout",
     "output_type": "stream",
     "text": [
      "Done 800 - 5635 images\n",
      "Done 900 - 5635 images\n",
      "Done 1000 - 5635 images\n",
      "Done 1100 - 5635 images\n",
      "Done 1200 - 5635 images\n",
      "Done 1300 - 5635 images\n",
      "Done 1400 - 5635 images\n",
      "Done 1500 - 5635 images\n",
      "Done 1600 - 5635 images\n",
      "Done 1700 - 5635 images\n",
      "Done 1800 - 5635 images\n",
      "Done 1900 - 5635 images\n",
      "Done 2000 - 5635 images\n",
      "Done 2100 - 5635 images\n",
      "Done 2200 - 5635 images\n",
      "Done 2300 - 5635 images\n",
      "Done 2400 - 5635 images\n",
      "Done 2500 - 5635 images\n",
      "Done 2600 - 5635 images\n",
      "Done 2700 - 5635 images\n",
      "Done 2800 - 5635 images\n",
      "Done 2900 - 5635 images\n",
      "Done 3000 - 5635 images\n",
      "Done 3100 - 5635 images\n",
      "Done 3200 - 5635 images\n",
      "Done 3300 - 5635 images\n",
      "Done 3400 - 5635 images\n",
      "Done 3500 - 5635 images\n",
      "Done 3600 - 5635 images\n",
      "Done 3700 - 5635 images\n",
      "Done 3800 - 5635 images\n",
      "Done 3900 - 5635 images\n",
      "Done 4000 - 5635 images\n",
      "Done 4100 - 5635 images\n",
      "Done 4200 - 5635 images\n",
      "Done 4300 - 5635 images\n",
      "Done 4400 - 5635 images\n",
      "Done 4500 - 5635 images\n",
      "Done 4600 - 5635 images\n",
      "Done 4700 - 5635 images\n",
      "Done 4800 - 5635 images\n",
      "Done 4900 - 5635 images\n",
      "Done 5000 - 5635 images\n",
      "Done 5100 - 5635 images\n",
      "Done 5200 - 5635 images\n",
      "Done 5300 - 5635 images\n",
      "Done 5400 - 5635 images\n",
      "Done 5500 - 5635 images\n",
      "Done 5600 - 5635 images\n",
      "Converting Training data from tif to npy is done..\n"
     ]
    }
   ],
   "source": [
    "train_data()"
   ]
  },
  {
   "cell_type": "code",
   "execution_count": 30,
   "metadata": {},
   "outputs": [],
   "source": [
    "def test_data():\n",
    "    path = os.path.join(data_path,'test')\n",
    "    total_number_images = os.listdir(path)\n",
    "    \n",
    "    len_test_images = len(total_number_images)\n",
    "    test_images = np.ndarray((len_test_images,img_height,img_width),dtype = np.uint8)\n",
    "    images_id = np.ndarray((len_test_images,),dtype = np.int32)\n",
    "    i = 0\n",
    "    for image_name in total_number_images:\n",
    "        \n",
    "        img_id = int(image_name.split('.')[0])\n",
    "        img = imread(os.path.join(path,image_name),as_grey=True)\n",
    "        \n",
    "        img = np.array([img])\n",
    "        \n",
    "        test_images[i] = img\n",
    "        images_id[i] = img_id\n",
    "        \n",
    "        if i%100 == 0:\n",
    "            print ('Done {0} - {1} images'.format(i,len_test_images))\n",
    "        i +=1\n",
    "    \n",
    "    np.save('test_images.npy',test_images)\n",
    "    np.save('test_id_images.npy',images_id)\n",
    "    \n",
    "    print ('Converting Test data from tif to npy is done..')\n",
    "    "
   ]
  },
  {
   "cell_type": "code",
   "execution_count": 31,
   "metadata": {},
   "outputs": [
    {
     "name": "stdout",
     "output_type": "stream",
     "text": [
      "Done 0 - 5508 images\n",
      "Done 100 - 5508 images\n",
      "Done 200 - 5508 images\n",
      "Done 300 - 5508 images\n",
      "Done 400 - 5508 images\n",
      "Done 500 - 5508 images\n",
      "Done 600 - 5508 images\n",
      "Done 700 - 5508 images\n",
      "Done 800 - 5508 images\n",
      "Done 900 - 5508 images\n",
      "Done 1000 - 5508 images\n",
      "Done 1100 - 5508 images\n",
      "Done 1200 - 5508 images\n",
      "Done 1300 - 5508 images\n",
      "Done 1400 - 5508 images\n",
      "Done 1500 - 5508 images\n",
      "Done 1600 - 5508 images\n",
      "Done 1700 - 5508 images\n",
      "Done 1800 - 5508 images\n",
      "Done 1900 - 5508 images\n",
      "Done 2000 - 5508 images\n",
      "Done 2100 - 5508 images\n",
      "Done 2200 - 5508 images\n",
      "Done 2300 - 5508 images\n",
      "Done 2400 - 5508 images\n",
      "Done 2500 - 5508 images\n",
      "Done 2600 - 5508 images\n",
      "Done 2700 - 5508 images\n",
      "Done 2800 - 5508 images\n"
     ]
    },
    {
     "name": "stderr",
     "output_type": "stream",
     "text": [
      "/Users/kathan/miniconda3/envs/carnd-term1/lib/python3.5/site-packages/skimage/external/tifffile/tifffile.py:2611: RuntimeWarning: py_decodelzw encountered unexpected end of stream\n",
      "  strip = decompress(strip)\n"
     ]
    },
    {
     "name": "stdout",
     "output_type": "stream",
     "text": [
      "Done 2900 - 5508 images\n",
      "Done 3000 - 5508 images\n",
      "Done 3100 - 5508 images\n",
      "Done 3200 - 5508 images\n",
      "Done 3300 - 5508 images\n",
      "Done 3400 - 5508 images\n",
      "Done 3500 - 5508 images\n",
      "Done 3600 - 5508 images\n",
      "Done 3700 - 5508 images\n",
      "Done 3800 - 5508 images\n",
      "Done 3900 - 5508 images\n",
      "Done 4000 - 5508 images\n",
      "Done 4100 - 5508 images\n",
      "Done 4200 - 5508 images\n",
      "Done 4300 - 5508 images\n",
      "Done 4400 - 5508 images\n",
      "Done 4500 - 5508 images\n",
      "Done 4600 - 5508 images\n",
      "Done 4700 - 5508 images\n",
      "Done 4800 - 5508 images\n",
      "Done 4900 - 5508 images\n",
      "Done 5000 - 5508 images\n",
      "Done 5100 - 5508 images\n",
      "Done 5200 - 5508 images\n",
      "Done 5300 - 5508 images\n",
      "Done 5400 - 5508 images\n",
      "Done 5500 - 5508 images\n",
      "Converting Test data from tif to npy is done..\n"
     ]
    }
   ],
   "source": [
    "test_data()"
   ]
  },
  {
   "cell_type": "code",
   "execution_count": null,
   "metadata": {},
   "outputs": [],
   "source": []
  }
 ],
 "metadata": {
  "kernelspec": {
   "display_name": "Python 3",
   "language": "python",
   "name": "python3"
  },
  "language_info": {
   "codemirror_mode": {
    "name": "ipython",
    "version": 3
   },
   "file_extension": ".py",
   "mimetype": "text/x-python",
   "name": "python",
   "nbconvert_exporter": "python",
   "pygments_lexer": "ipython3",
   "version": "3.5.2"
  },
  "widgets": {
   "state": {},
   "version": "1.1.2"
  }
 },
 "nbformat": 4,
 "nbformat_minor": 2
}
